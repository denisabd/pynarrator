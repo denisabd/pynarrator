{
 "cells": [
  {
   "cell_type": "code",
   "execution_count": 9,
   "metadata": {},
   "outputs": [
    {
     "ename": "ImportError",
     "evalue": "cannot import name 'gpt_get_completions' from 'pynarrator' (/Users/denisabdullin/Projects/pynarrator/src/pynarrator/__init__.py)",
     "output_type": "error",
     "traceback": [
      "\u001b[0;31m---------------------------------------------------------------------------\u001b[0m",
      "\u001b[0;31mImportError\u001b[0m                               Traceback (most recent call last)",
      "Cell \u001b[0;32mIn[9], line 2\u001b[0m\n\u001b[1;32m      1\u001b[0m \u001b[39mimport\u001b[39;00m \u001b[39mos\u001b[39;00m\n\u001b[0;32m----> 2\u001b[0m \u001b[39mfrom\u001b[39;00m \u001b[39mpynarrator\u001b[39;00m \u001b[39mimport\u001b[39;00m narrate_descriptive, read_data, gpt_get_completions\n",
      "\u001b[0;31mImportError\u001b[0m: cannot import name 'gpt_get_completions' from 'pynarrator' (/Users/denisabdullin/Projects/pynarrator/src/pynarrator/__init__.py)"
     ]
    }
   ],
   "source": [
    "import os\n",
    "from pynarrator import narrate_descriptive, read_data, gpt_get_completions"
   ]
  },
  {
   "cell_type": "code",
   "execution_count": 5,
   "metadata": {},
   "outputs": [
    {
     "data": {
      "text/html": [
       "<div>\n",
       "<style scoped>\n",
       "    .dataframe tbody tr th:only-of-type {\n",
       "        vertical-align: middle;\n",
       "    }\n",
       "\n",
       "    .dataframe tbody tr th {\n",
       "        vertical-align: top;\n",
       "    }\n",
       "\n",
       "    .dataframe thead th {\n",
       "        text-align: right;\n",
       "    }\n",
       "</style>\n",
       "<table border=\"1\" class=\"dataframe\">\n",
       "  <thead>\n",
       "    <tr style=\"text-align: right;\">\n",
       "      <th></th>\n",
       "      <th>Order ID</th>\n",
       "      <th>Date</th>\n",
       "      <th>Region</th>\n",
       "      <th>Product</th>\n",
       "      <th>Store</th>\n",
       "      <th>Promotion</th>\n",
       "      <th>Price</th>\n",
       "      <th>Quantity</th>\n",
       "      <th>Sales</th>\n",
       "    </tr>\n",
       "  </thead>\n",
       "  <tbody>\n",
       "    <tr>\n",
       "      <th>0</th>\n",
       "      <td>QR10276</td>\n",
       "      <td>2019-01-30</td>\n",
       "      <td>EMEA</td>\n",
       "      <td>Tools</td>\n",
       "      <td>Big</td>\n",
       "      <td>1</td>\n",
       "      <td>89.6</td>\n",
       "      <td>28</td>\n",
       "      <td>2007.04</td>\n",
       "    </tr>\n",
       "    <tr>\n",
       "      <th>1</th>\n",
       "      <td>QR15245</td>\n",
       "      <td>2020-07-26</td>\n",
       "      <td>ASPAC</td>\n",
       "      <td>Tools</td>\n",
       "      <td>Big</td>\n",
       "      <td>0</td>\n",
       "      <td>268.5</td>\n",
       "      <td>7</td>\n",
       "      <td>1879.50</td>\n",
       "    </tr>\n",
       "    <tr>\n",
       "      <th>2</th>\n",
       "      <td>QR13938</td>\n",
       "      <td>2020-03-05</td>\n",
       "      <td>EMEA</td>\n",
       "      <td>Home</td>\n",
       "      <td>Big</td>\n",
       "      <td>0</td>\n",
       "      <td>223.3</td>\n",
       "      <td>18</td>\n",
       "      <td>4019.40</td>\n",
       "    </tr>\n",
       "    <tr>\n",
       "      <th>3</th>\n",
       "      <td>QR15934</td>\n",
       "      <td>2020-10-08</td>\n",
       "      <td>LATAM</td>\n",
       "      <td>Clothing</td>\n",
       "      <td>Big</td>\n",
       "      <td>0</td>\n",
       "      <td>210.4</td>\n",
       "      <td>27</td>\n",
       "      <td>5680.80</td>\n",
       "    </tr>\n",
       "    <tr>\n",
       "      <th>4</th>\n",
       "      <td>QR10963</td>\n",
       "      <td>2019-04-15</td>\n",
       "      <td>EMEA</td>\n",
       "      <td>Tools</td>\n",
       "      <td>Big</td>\n",
       "      <td>0</td>\n",
       "      <td>193.1</td>\n",
       "      <td>22</td>\n",
       "      <td>4248.20</td>\n",
       "    </tr>\n",
       "  </tbody>\n",
       "</table>\n",
       "</div>"
      ],
      "text/plain": [
       "  Order ID        Date Region   Product Store  Promotion  Price  Quantity  \\\n",
       "0  QR10276  2019-01-30   EMEA     Tools   Big          1   89.6        28   \n",
       "1  QR15245  2020-07-26  ASPAC     Tools   Big          0  268.5         7   \n",
       "2  QR13938  2020-03-05   EMEA      Home   Big          0  223.3        18   \n",
       "3  QR15934  2020-10-08  LATAM  Clothing   Big          0  210.4        27   \n",
       "4  QR10963  2019-04-15   EMEA     Tools   Big          0  193.1        22   \n",
       "\n",
       "     Sales  \n",
       "0  2007.04  \n",
       "1  1879.50  \n",
       "2  4019.40  \n",
       "3  5680.80  \n",
       "4  4248.20  "
      ]
     },
     "execution_count": 5,
     "metadata": {},
     "output_type": "execute_result"
    }
   ],
   "source": [
    "df = read_data()\n",
    "df.head()"
   ]
  },
  {
   "cell_type": "code",
   "execution_count": 6,
   "metadata": {},
   "outputs": [
    {
     "data": {
      "text/plain": [
       "{'Total Sales': 'Total Sales across all Regions is 38790478.42.'}"
      ]
     },
     "execution_count": 6,
     "metadata": {},
     "output_type": "execute_result"
    }
   ],
   "source": [
    "narrate_descriptive(df, measure = 'Sales', dimensions = ['Region', 'Product'])"
   ]
  },
  {
   "cell_type": "code",
   "execution_count": 8,
   "metadata": {},
   "outputs": [
    {
     "ename": "NameError",
     "evalue": "name 'os' is not defined",
     "output_type": "error",
     "traceback": [
      "\u001b[0;31m---------------------------------------------------------------------------\u001b[0m",
      "\u001b[0;31mNameError\u001b[0m                                 Traceback (most recent call last)",
      "Cell \u001b[0;32mIn[8], line 1\u001b[0m\n\u001b[0;32m----> 1\u001b[0m os\u001b[39m.\u001b[39mgetenv(\u001b[39m\"\u001b[39m\u001b[39mOPENAI_API_KEY\u001b[39m\u001b[39m\"\u001b[39m)\n",
      "\u001b[0;31mNameError\u001b[0m: name 'os' is not defined"
     ]
    }
   ],
   "source": [
    "os.getenv(\"OPENAI_API_KEY\")"
   ]
  }
 ],
 "metadata": {
  "kernelspec": {
   "display_name": "Python 3",
   "language": "python",
   "name": "python3"
  },
  "language_info": {
   "codemirror_mode": {
    "name": "ipython",
    "version": 3
   },
   "file_extension": ".py",
   "mimetype": "text/x-python",
   "name": "python",
   "nbconvert_exporter": "python",
   "pygments_lexer": "ipython3",
   "version": "3.9.6"
  },
  "orig_nbformat": 4
 },
 "nbformat": 4,
 "nbformat_minor": 2
}
